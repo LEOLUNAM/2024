{
  "nbformat": 4,
  "nbformat_minor": 0,
  "metadata": {
    "colab": {
      "provenance": [],
      "authorship_tag": "ABX9TyMjyd5zpbBYFnJJilwgfxq9",
      "include_colab_link": true
    },
    "kernelspec": {
      "name": "python3",
      "display_name": "Python 3"
    },
    "language_info": {
      "name": "python"
    }
  },
  "cells": [
    {
      "cell_type": "markdown",
      "metadata": {
        "id": "view-in-github",
        "colab_type": "text"
      },
      "source": [
        "<a href=\"https://colab.research.google.com/github/LEOLUNAM/2024/blob/main/MODELADO_Y_SIMULACI%C3%93N.ipynb\" target=\"_parent\"><img src=\"https://colab.research.google.com/assets/colab-badge.svg\" alt=\"Open In Colab\"/></a>"
      ]
    },
    {
      "cell_type": "code",
      "execution_count": null,
      "metadata": {
        "id": "01pzh8gz2etx"
      },
      "outputs": [],
      "source": [
        "# 19 DE AGOSTO DEL 2024\n",
        "# MRU Y MUA\n",
        "\n",
        "\n",
        "# Importar la libreria pov.py\n",
        "from pov import *\n",
        "\n",
        "# Crear el archivo destino\n",
        "output = open(\"output.pov\", \"w\")\n",
        "\n",
        "# Crear la variable que almacenara el codigo generado por las funciones\n",
        "code = \"\"\n",
        "\n",
        "# Parametros basicos\n",
        "code += povBasico(\"Comentario de cabezera del archivo\")\n",
        "\n",
        "# Crear piso\n",
        "code += povPiso()\n",
        "\n",
        "# Definir luz (x, y, z de su posicion y valores RGB)\n",
        "code += povLuz(0, 0, 20, 1, 1, 1)\n",
        "\n",
        "# Crear camara (x, y ,z de su posicion y x, y ,z de su direccion de apuntado)\n",
        "code += povCamara(8, 6 , 20, 0, 0, 0)\n",
        "\n",
        "# Crear esfera en el punto de origen (x, y, z = 0) y radio 4\n",
        "code += povEsfera(0, 0, 0, 3)\n",
        "\n",
        "code += povEsfera(5, 5, 3, 2)\n",
        "code += povEsfera(-7, 6, -5, 5)\n",
        "\n",
        "# Escribir el codigo generado dentro del archivo destino\n",
        "output.write(code)\n",
        "\n",
        "# Cerrar el archivo destino\n",
        "output.close()"
      ]
    }
  ]
}