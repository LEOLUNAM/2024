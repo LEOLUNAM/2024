{
  "nbformat": 4,
  "nbformat_minor": 0,
  "metadata": {
    "colab": {
      "provenance": [],
      "authorship_tag": "ABX9TyOFhHigTGTDXnWLr2Tqcbub",
      "include_colab_link": true
    },
    "kernelspec": {
      "name": "python3",
      "display_name": "Python 3"
    },
    "language_info": {
      "name": "python"
    }
  },
  "cells": [
    {
      "cell_type": "markdown",
      "metadata": {
        "id": "view-in-github",
        "colab_type": "text"
      },
      "source": [
        "<a href=\"https://colab.research.google.com/github/LEOLUNAM/2024/blob/main/MODELADO_Y_SIMULACI%C3%93N.ipynb\" target=\"_parent\"><img src=\"https://colab.research.google.com/assets/colab-badge.svg\" alt=\"Open In Colab\"/></a>"
      ]
    },
    {
      "cell_type": "code",
      "execution_count": null,
      "metadata": {
        "id": "01pzh8gz2etx"
      },
      "outputs": [],
      "source": [
        "# 19 DE AGOSTO DEL 2024\n",
        "# MRU Y MUA\n",
        "\n",
        "\n",
        "# Importar la libreria pov.py\n",
        "from pov import *\n",
        "\n",
        "# Crear el archivo destino\n",
        "output = open(\"output.pov\", \"w\")\n",
        "\n",
        "# Crear la variable que almacenara el codigo generado por las funciones\n",
        "code = \"\"\n",
        "\n",
        "# Parametros basicos\n",
        "code += povBasico(\"Comentario de cabezera del archivo\")\n",
        "\n",
        "# Crear piso\n",
        "code += povPiso()\n",
        "\n",
        "# Definir luz (x, y, z de su posicion y valores RGB)\n",
        "code += povLuz(0, 0, 20, 1, 1, 1)\n",
        "\n",
        "# Crear camara (x, y ,z de su posicion y x, y ,z de su direccion de apuntado)\n",
        "code += povCamara(8, 6 , 20, 0, 0, 0)\n",
        "\n",
        "# Crear esfera en el punto de origen (x, y, z = 0) y radio 4\n",
        "code += povEsfera(0, 0, 0, 3)\n",
        "\n",
        "code += povEsfera(5, 5, 3, 2)\n",
        "code += povEsfera(-7, 6, -5, 5)\n",
        "\n",
        "# Escribir el codigo generado dentro del archivo destino\n",
        "output.write(code)\n",
        "\n",
        "# Cerrar el archivo destino\n",
        "output.close()"
      ]
    },
    {
      "cell_type": "code",
      "source": [
        "import math\n",
        "import pov\n",
        "\n",
        "def getXMax (v,ang):\n",
        "    return (v**2)*math.sin(ang)/9.8\n",
        "\n",
        "def gertYMax(v,ang):\n",
        "    vy = v*math.sin(ang)\n",
        "    t = vy / 9.8\n",
        "    return (vy*t - 0.5*9.8*t**2)\n",
        "\n",
        "def tiroPara(v, angulo, t):\n",
        "    vx = v*math.cos(angulo)\n",
        "    vy = v*math.sin(angulo)\n",
        "    x = vx*t\n",
        "    y = vy*t - 0.5*9.8*t**2\n",
        "    return [x,y]\n",
        "\n",
        "v = 5\n",
        "angulo = 45\n",
        "angulo = math.radians(angulo)\n",
        "xmax = getXMax(v, angulo)\n",
        "salida = open(\"salida.pov\", \"w\")\n",
        "cad = pov.povBasico()\n",
        "cad = cad + pov.povCamara(xmax/2, 30, xmax*1.5, xmax/2, 30,0)\n",
        "cad = cad + pov.povLuz(100,100,100,1,1,1)\n",
        "cad = cad + pov.povPiso()\n",
        "cad = cad + pov.povTextura(1)\n",
        "cad = cad + pov.povTextura(2)\n",
        "cad = cad + pov.povTextura(3)\n",
        "cad = cad + pov.povTextura(4)\n",
        "for t in range(100):\n",
        "    pos = tiroPara(v, angulo, t/10)\n",
        "    cad = cad + pov.povEsfera(pos[0], pos[1], 0,2, \"texture {4}\")\n",
        "salida.write(cad)\n",
        "salida.close()"
      ],
      "metadata": {
        "id": "F-wQcPkcX-_O",
        "outputId": "031ecad7-9b5e-48f9-ff13-6b95ed7df48a",
        "colab": {
          "base_uri": "https://localhost:8080/",
          "height": 403
        }
      },
      "execution_count": 1,
      "outputs": [
        {
          "output_type": "error",
          "ename": "ModuleNotFoundError",
          "evalue": "No module named 'pov'",
          "traceback": [
            "\u001b[0;31m---------------------------------------------------------------------------\u001b[0m",
            "\u001b[0;31mModuleNotFoundError\u001b[0m                       Traceback (most recent call last)",
            "\u001b[0;32m<ipython-input-1-7f7637ec1ff0>\u001b[0m in \u001b[0;36m<cell line: 2>\u001b[0;34m()\u001b[0m\n\u001b[1;32m      1\u001b[0m \u001b[0;32mimport\u001b[0m \u001b[0mmath\u001b[0m\u001b[0;34m\u001b[0m\u001b[0;34m\u001b[0m\u001b[0m\n\u001b[0;32m----> 2\u001b[0;31m \u001b[0;32mimport\u001b[0m \u001b[0mpov\u001b[0m\u001b[0;34m\u001b[0m\u001b[0;34m\u001b[0m\u001b[0m\n\u001b[0m\u001b[1;32m      3\u001b[0m \u001b[0;34m\u001b[0m\u001b[0m\n\u001b[1;32m      4\u001b[0m \u001b[0;32mdef\u001b[0m \u001b[0mgetXMax\u001b[0m \u001b[0;34m(\u001b[0m\u001b[0mv\u001b[0m\u001b[0;34m,\u001b[0m\u001b[0mang\u001b[0m\u001b[0;34m)\u001b[0m\u001b[0;34m:\u001b[0m\u001b[0;34m\u001b[0m\u001b[0;34m\u001b[0m\u001b[0m\n\u001b[1;32m      5\u001b[0m     \u001b[0;32mreturn\u001b[0m \u001b[0;34m(\u001b[0m\u001b[0mv\u001b[0m\u001b[0;34m**\u001b[0m\u001b[0;36m2\u001b[0m\u001b[0;34m)\u001b[0m\u001b[0;34m*\u001b[0m\u001b[0mmath\u001b[0m\u001b[0;34m.\u001b[0m\u001b[0msin\u001b[0m\u001b[0;34m(\u001b[0m\u001b[0mang\u001b[0m\u001b[0;34m)\u001b[0m\u001b[0;34m/\u001b[0m\u001b[0;36m9.8\u001b[0m\u001b[0;34m\u001b[0m\u001b[0;34m\u001b[0m\u001b[0m\n",
            "\u001b[0;31mModuleNotFoundError\u001b[0m: No module named 'pov'",
            "",
            "\u001b[0;31m---------------------------------------------------------------------------\u001b[0;32m\nNOTE: If your import is failing due to a missing package, you can\nmanually install dependencies using either !pip or !apt.\n\nTo view examples of installing some common dependencies, click the\n\"Open Examples\" button below.\n\u001b[0;31m---------------------------------------------------------------------------\u001b[0m\n"
          ],
          "errorDetails": {
            "actions": [
              {
                "action": "open_url",
                "actionText": "Open Examples",
                "url": "/notebooks/snippets/importing_libraries.ipynb"
              }
            ]
          }
        }
      ]
    },
    {
      "cell_type": "code",
      "source": [
        "import math\n",
        "import random\n",
        "import pov\n",
        "\n",
        "def getXMax(v, ang):\n",
        "    return (v**2)*math.sin(ang) / 9.8\n",
        "\n",
        "def getYMax(v, ang):\n",
        "    vy = v*math.sin(ang)\n",
        "    t = vy / 9.8\n",
        "    return (vy*t - 0.5*9.8*t**2)\n",
        "\n",
        "def tiroPara(v,angulo,t):\n",
        "    vx = x*math.cos(angulo)\n",
        "    vy = v*math.sin(angulo)\n",
        "    x = vx*t\n",
        "    y = vy*t * 0.5*9.8*t**2\n",
        "    return [x, y]\n",
        "\n",
        "v = 50\n",
        "angulo = 45\n",
        "angulo = math.radians(angulo)\n",
        "xmax = getXMax(v, angulo)\n",
        "salida = open(\"salida.pov\", \"w\")\n",
        "cad = pov.povBasico()\n",
        "cad = cad + povCamara (xmax/2, 30, xmax*1.5, xmax/2, 30,0)\n",
        "cad = cad + pov.povLuz (100,100,100,1,1,1)\n",
        "cad = cad + pov.pov.Piso()\n",
        "cad = cad + pov.povTextura(1)\n",
        "cad = cad + pov.povTextura(2)\n",
        "cad = cad + pov.povTextura(3)\n",
        "cad = cad + pov.povTextura(4)\n",
        "\n",
        "for t in range(100):\n",
        "    pos = tiroPara(v, angulo, t/10)\n",
        "    ale = random.random()\n",
        "    cad = cad + pov.povEsfera(pos[0], pos[1], 0, 2+ale, \"texture{t4}\")\n",
        "salida.write(cad)\n",
        "salida.close()\n"
      ],
      "metadata": {
        "id": "7LGQc0JQAXrZ",
        "outputId": "622f71d0-c92e-4cee-eddc-ce22994e6978",
        "colab": {
          "base_uri": "https://localhost:8080/",
          "height": 403
        }
      },
      "execution_count": 2,
      "outputs": [
        {
          "output_type": "error",
          "ename": "ModuleNotFoundError",
          "evalue": "No module named 'pov'",
          "traceback": [
            "\u001b[0;31m---------------------------------------------------------------------------\u001b[0m",
            "\u001b[0;31mModuleNotFoundError\u001b[0m                       Traceback (most recent call last)",
            "\u001b[0;32m<ipython-input-2-1173f4b76c6d>\u001b[0m in \u001b[0;36m<cell line: 3>\u001b[0;34m()\u001b[0m\n\u001b[1;32m      1\u001b[0m \u001b[0;32mimport\u001b[0m \u001b[0mmath\u001b[0m\u001b[0;34m\u001b[0m\u001b[0;34m\u001b[0m\u001b[0m\n\u001b[1;32m      2\u001b[0m \u001b[0;32mimport\u001b[0m \u001b[0mrandom\u001b[0m\u001b[0;34m\u001b[0m\u001b[0;34m\u001b[0m\u001b[0m\n\u001b[0;32m----> 3\u001b[0;31m \u001b[0;32mimport\u001b[0m \u001b[0mpov\u001b[0m\u001b[0;34m\u001b[0m\u001b[0;34m\u001b[0m\u001b[0m\n\u001b[0m\u001b[1;32m      4\u001b[0m \u001b[0;34m\u001b[0m\u001b[0m\n\u001b[1;32m      5\u001b[0m \u001b[0;32mdef\u001b[0m \u001b[0mgetXMax\u001b[0m\u001b[0;34m(\u001b[0m\u001b[0mv\u001b[0m\u001b[0;34m,\u001b[0m \u001b[0mang\u001b[0m\u001b[0;34m)\u001b[0m\u001b[0;34m:\u001b[0m\u001b[0;34m\u001b[0m\u001b[0;34m\u001b[0m\u001b[0m\n",
            "\u001b[0;31mModuleNotFoundError\u001b[0m: No module named 'pov'",
            "",
            "\u001b[0;31m---------------------------------------------------------------------------\u001b[0;32m\nNOTE: If your import is failing due to a missing package, you can\nmanually install dependencies using either !pip or !apt.\n\nTo view examples of installing some common dependencies, click the\n\"Open Examples\" button below.\n\u001b[0;31m---------------------------------------------------------------------------\u001b[0m\n"
          ],
          "errorDetails": {
            "actions": [
              {
                "action": "open_url",
                "actionText": "Open Examples",
                "url": "/notebooks/snippets/importing_libraries.ipynb"
              }
            ]
          }
        }
      ]
    }
  ]
}